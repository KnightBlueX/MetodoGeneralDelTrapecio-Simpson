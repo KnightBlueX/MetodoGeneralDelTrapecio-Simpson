{
  "nbformat": 4,
  "nbformat_minor": 0,
  "metadata": {
    "colab": {
      "name": "Método general del Trapecio y Simpson",
      "provenance": [],
      "collapsed_sections": []
    },
    "kernelspec": {
      "name": "python3",
      "display_name": "Python 3"
    },
    "language_info": {
      "name": "python"
    }
  },
  "cells": [
    {
      "cell_type": "markdown",
      "metadata": {
        "id": "48dTcH4W3_S0"
      },
      "source": [
        "###Método general del Trapecio y de Simpson\n",
        "\n",
        "####Alumnos: \n",
        "*   Jesús Abraham Canul Couoh (19070034)\n",
        "*   Evan Jazheel Ku Canche (19070048)\n",
        "*   Fernando Javier Noh Requena (19070052)\n",
        "\n",
        "####Semestre y Grupo: 4°B"
      ]
    },
    {
      "cell_type": "markdown",
      "metadata": {
        "id": "bJp3aY-55Y2j"
      },
      "source": [
        "###Método general del Trapecio\n"
      ]
    },
    {
      "cell_type": "code",
      "metadata": {
        "id": "1gdX3MYzO-Zw",
        "colab": {
          "base_uri": "https://localhost:8080/"
        },
        "outputId": "835c3c7a-c6dd-4f0c-88ae-78d053075369"
      },
      "source": [
        "# Integración: Método del Trapecio \n",
        "# Ejercicio usado: Conjunto de ejercicios 4.4 del libro de Burden\n",
        "\n",
        "#Ejercicio F\n",
        "\n",
        "import math\n",
        "import numpy as np\n",
        "\n",
        "# Ingreso de datos \n",
        "\n",
        "#Función\n",
        "fx = lambda x: x/(x**2+4)\n",
        "\n",
        "# Intervalos de integración e interaciones\n",
        "a = 1          #Limite inferior\n",
        "b = 3          #Limite superior\n",
        "tramos = 8     #Iteraciones\n",
        "\n",
        "# Procedimiento con regla del trapecio \n",
        "# Usando tramos equidistantes en intervalo\n",
        "h = (b-a)/tramos\n",
        "xi = a\n",
        "suma = fx(xi)\n",
        "for i in range(0,tramos-1,1):\n",
        "    xi = xi + h\n",
        "    suma = suma + 2*fx(xi)\n",
        "suma = suma + fx(b)\n",
        "area = h*(suma/2)\n",
        "\n",
        "# Impresión de resultados \n",
        "print('Iteraciones:',tramos)\n",
        "print('El resultado de la integración es:',area)"
      ],
      "execution_count": 6,
      "outputs": [
        {
          "output_type": "stream",
          "text": [
            "Iteraciones: 8\n",
            "El resultado de la integración es: 0.4769768665147184\n"
          ],
          "name": "stdout"
        }
      ]
    },
    {
      "cell_type": "code",
      "metadata": {
        "colab": {
          "base_uri": "https://localhost:8080/"
        },
        "id": "v8_fa4bY4Z5g",
        "outputId": "4521c9d3-9f61-47f8-c9e7-5e8b5457c53d"
      },
      "source": [
        "# Integración: Método del Trapecio \n",
        "# Ejercicio usado: Conjunto de ejercicios 4.4 del libro de Burden\n",
        "\n",
        "#Ejercicio G\n",
        "\n",
        "import math\n",
        "\n",
        "# Ingreso de datos \n",
        "\n",
        "#Función\n",
        "fx = lambda x: 1/(math.sqrt(x**2-4))\n",
        "\n",
        "# Intervalos de integración e interaciones\n",
        "a = 3          #Limite inferior\n",
        "b = 5          #Limite superior\n",
        "tramos = 8     #Iteraciones\n",
        "\n",
        "# Procedimiento con regla del trapecio \n",
        "# Usando tramos equidistantes en intervalo\n",
        "h = (b-a)/tramos\n",
        "xi = a\n",
        "suma = fx(xi)\n",
        "for i in range(0,tramos-1,1):\n",
        "    xi = xi + h\n",
        "    suma = suma + 2*fx(xi)\n",
        "suma = suma + fx(b)\n",
        "area = h*(suma/2)\n",
        "\n",
        "# Impresión de resultados \n",
        "print('Iteraciones:',tramos)\n",
        "print('El resultado de la integración es:',area)"
      ],
      "execution_count": 7,
      "outputs": [
        {
          "output_type": "stream",
          "text": [
            "Iteraciones: 8\n",
            "El resultado de la integración es: 0.6054975145421462\n"
          ],
          "name": "stdout"
        }
      ]
    },
    {
      "cell_type": "markdown",
      "metadata": {
        "id": "wBT2uDf-5TQa"
      },
      "source": [
        "###Método general de Simpson"
      ]
    },
    {
      "cell_type": "code",
      "metadata": {
        "colab": {
          "base_uri": "https://localhost:8080/"
        },
        "id": "9ZPEJXUjrr0a",
        "outputId": "a9ec4f3d-91f7-4293-fdfc-a48fb6beaa8f"
      },
      "source": [
        "# Integración: Método de Simpson \n",
        "# Ejercicios Usados: Conjunto de ejercicios 4.4 del libro de Burden\n",
        "\n",
        "#Ejercicio F\n",
        "\n",
        "import math\n",
        "import numpy as np\n",
        "\n",
        "# Ingreso de datos:\n",
        "\n",
        "#Función\n",
        "fx = lambda x: x/(x**2+4)\n",
        "\n",
        "# Intervalo de integración e iteraciones \n",
        "a = 1            #Limite inferior\n",
        "b = 3            #Limite superior\n",
        "tramos = 8       #Iteraciones\n",
        "\n",
        "# Procedimiento\n",
        "# Validamos tramos par con la regla de Simpson \n",
        "h = (b-a)/tramos\n",
        "xi = a\n",
        "area = 0\n",
        "for i in range(0,tramos,2):\n",
        "    deltaA = (h/3)*(fx(xi)+4*fx(xi+h)+fx(xi+2*h))\n",
        "    area = area + deltaA\n",
        "    xi = xi + 2*h\n",
        "\n",
        "# SALIDA\n",
        "print('Iteraciones:', tramos)\n",
        "print('El resultado de la integración es:',area)"
      ],
      "execution_count": 8,
      "outputs": [
        {
          "output_type": "stream",
          "text": [
            "Iteraciones: 8\n",
            "El resultado de la integración es: 0.4777546462847902\n"
          ],
          "name": "stdout"
        }
      ]
    },
    {
      "cell_type": "code",
      "metadata": {
        "colab": {
          "base_uri": "https://localhost:8080/"
        },
        "id": "PolijlLS4a4g",
        "outputId": "adf6f85f-7ed1-4108-ab20-2932674a8396"
      },
      "source": [
        "# Integración: Método de Simpson \n",
        "# Ejercicios Usados: Conjunto de ejercicios 4.4 del libro de Burden\n",
        "\n",
        "#Ejercicio G\n",
        "\n",
        "import math\n",
        "import numpy as np\n",
        "\n",
        "# Ingreso de datos:\n",
        "\n",
        "#Función\n",
        "fx = lambda x:1/(math.sqrt(x**2-4))\n",
        "\n",
        "# Intervalo de integración e iteraciones \n",
        "a = 3            #Limite inferior\n",
        "b = 5            #Limite superior\n",
        "tramos = 8       #Iteraciones\n",
        "\n",
        "# Procedimiento\n",
        "# Validamos tramos par con la regla de Simpson \n",
        "h = (b-a)/tramos\n",
        "xi = a\n",
        "area = 0\n",
        "for i in range(0,tramos,2):\n",
        "    deltaA = (h/3)*(fx(xi)+4*fx(xi+h)+fx(xi+2*h))\n",
        "    area = area + deltaA\n",
        "    xi = xi + 2*h\n",
        "\n",
        "# SALIDA\n",
        "print('Iteraciones:', tramos)\n",
        "print('El resultado de la integración es:',area)"
      ],
      "execution_count": 9,
      "outputs": [
        {
          "output_type": "stream",
          "text": [
            "Iteraciones: 8\n",
            "El resultado de la integración es: 0.604394076297428\n"
          ],
          "name": "stdout"
        }
      ]
    }
  ]
}